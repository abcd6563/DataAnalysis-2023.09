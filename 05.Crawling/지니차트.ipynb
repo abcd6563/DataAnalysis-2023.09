{
 "cells": [
  {
   "cell_type": "code",
   "execution_count": 11,
   "metadata": {},
   "outputs": [],
   "source": [
    "import requests\n",
    "import pandas as pd \n",
    "from bs4 import BeautifulSoup"
   ]
  },
  {
   "cell_type": "code",
   "execution_count": 67,
   "metadata": {},
   "outputs": [
    {
     "data": {
      "text/plain": [
       "'<br>\\r\\n<br>\\r\\n<center>\\r\\n<br>\\r\\n<h2> <meta http-equiv=\"Content-Type\" content=\"text/html;charset=UTF-8\"> ì\\xa0\\x91ì\\x86\\x8dì\\x9a\\x94ì²\\xadì\\x9d´ ë³´ì\\x95\\x88ì\\xa0\\x95ì±\\x85ì\\x97\\x90 ì\\x9d\\x98í\\x95´ ì°¨ë\\x8b¨ë\\x90\\x98ì\\x97\\x88ì\\x8aµë\\x8b\\x88ë\\x8b¤. ë\\x8b¹ì\\x82¬ ê³\\xa0ê°\\x9dì\\x84¼í\\x84°ë¡\\x9c ë¬¸ì\\x9d\\x98í\\x95´ì£¼ì\\x8b\\xadì\\x8b\\x9cì\\x98¤.<br><br>\\r\\nThe security policy of the connection request is blocked. Contact your customer service representative.<br><br>\\r\\nì§\\x80ë\\x8b\\x88ë®¤ì§\\x81 ê³\\xa0ê°\\x9dì\\x84¼í\\x84° 1577-5337<br><br>\\r\\n</h2>\\r\\n</center>\\r\\n<br>'"
      ]
     },
     "execution_count": 67,
     "metadata": {},
     "output_type": "execute_result"
    }
   ],
   "source": [
    "url = 'https://mw.genie.co.kr/chart'\n",
    "res = requests.get(url)\n",
    "res.text"
   ]
  },
  {
   "cell_type": "code",
   "execution_count": 71,
   "metadata": {},
   "outputs": [
    {
     "data": {
      "text/plain": [
       "'\\n\\n\\n\\n\\n<!DOCTYPE html>\\n<head>\\n    \\n\\n\\n\\n\\n<title>지니</title>\\n<meta charset=\"utf-8\" />\\n<meta name=\"viewport\" content=\"width=device-width, initial-scale=1.0, minimum-scale=1.0, maximum-scale=1.0, user-scalable=no\">\\n<meta name=\"format-detection\" content=\"telephone=no\">\\n<link rel=\"apple-touch-icon-precomposed\" href=\"//image.genie.co.kr/imageg/mobile_web/common/favicon.png\" />\\n<link rel=\"shortcut icon\" href=\"//image.genie.co.kr/imageg/mobile_web/common/favicon.ico\" />\\n<meta name=\"description\" content=\"국내 최'"
      ]
     },
     "execution_count": 71,
     "metadata": {},
     "output_type": "execute_result"
    }
   ],
   "source": [
    "# Chrome User-Agent\n",
    "from bs4 import BeautifulSoup\n",
    "header = {'User-Agent': 'Mozilla/5.0 (Windows NT 10.0; Win64; x64) AppleWebKit/537.36 (KHTML, like Gecko) Chrome/117.0.0.0 Safari/537.36'}\n",
    "res = requests.get(url, headers=header)\n",
    "res.text[:500]"
   ]
  },
  {
   "cell_type": "code",
   "execution_count": 72,
   "metadata": {},
   "outputs": [],
   "source": [
    "soup = BeautifulSoup(res.text, 'html.parser')\n"
   ]
  },
  {
   "cell_type": "code",
   "execution_count": 89,
   "metadata": {},
   "outputs": [
    {
     "name": "stdout",
     "output_type": "stream",
     "text": [
      "1 Love Lee AKMU (악뮤)\n",
      "2 Smoke (Prod. by Dynamicduo & Padi) 다이나믹 듀오 & 이영지\n",
      "3 후라이의 꿈 AKMU (악뮤)\n",
      "4 ETA NewJeans\n",
      "5 Seven (Feat. Latto) (Clean Ver.) 정국\n",
      "6 Super Shy NewJeans\n",
      "7 헤어지자 말해요 박재정\n",
      "8 Fast Forward 전소미\n",
      "9 I AM IVE (아이브)\n",
      "10 퀸카 (Queencard) (여자)아이들\n",
      "11 Hype boy NewJeans\n",
      "12 사막에서 꽃을 피우듯 우디 (Woody)\n",
      "13 I Love My Body 화사 (HWASA)\n",
      "14 이브, 프시케 그리고 푸른 수염의 아내 LE SSERAFIM (르세라핌)\n",
      "15 사랑은 늘 도망가 임영웅\n",
      "16 사건의 지평선 윤하 (YOUNHA)\n",
      "17 Kitsch IVE (아이브)\n",
      "18 Ditto NewJeans\n",
      "19 Spicy aespa\n",
      "20 Bubble STAYC (스테이씨)\n",
      "21 우리들의 블루스 임영웅\n",
      "22 Summer (Feat. BE'O (비오)) Paul Blanco\n",
      "23 모래 알갱이 임영웅\n",
      "24 이제 나만 믿어요 임영웅\n",
      "25 Steal The Show Lauv\n",
      "26 After LIKE IVE (아이브)\n",
      "27 다시 만날 수 있을까 임영웅\n",
      "28 심 (心) DK (디셈버)\n",
      "29 I Don't Think That I Like Her Charlie Puth\n",
      "30 Attention NewJeans\n",
      "31 무지개 임영웅\n",
      "32 LOVE DIVE IVE (아이브)\n",
      "33 아버지 임영웅\n",
      "34 London Boy 임영웅\n",
      "35 Underwater 권은비\n",
      "36 Polaroid 임영웅\n",
      "37 A bientot 임영웅\n",
      "38 UNFORGIVEN (Feat. Nile Rodgers) LE SSERAFIM (르세라핌)\n",
      "39 손이 참 곱던 그대 임영웅\n",
      "40 사랑해 진짜 임영웅\n",
      "41 연애편지 임영웅\n",
      "42 잘 지내자, 우리 (여름날 우리 X 로이킴) 로이킴\n",
      "43 건물 사이에 피어난 장미 H1-KEY (하이키)\n",
      "44 Dangerously Charlie Puth\n",
      "45 인생찬가 임영웅\n",
      "46 꽃 지수 (JISOO)\n",
      "47 OMG NewJeans\n",
      "48 보금자리 임영웅\n",
      "49 New Jeans NewJeans\n",
      "50 ANTIFRAGILE LE SSERAFIM (르세라핌)\n"
     ]
    }
   ],
   "source": [
    "import requests\n",
    "from bs4 import BeautifulSoup\n",
    "\n",
    "headers = {'User-Agent' : 'Mozilla/5.0 (Windows NT 10.0; Win64; x64) AppleWebKit/537.36 (KHTML, like Gecko) Chrome/98.0.4758.102 Safari/537.36'}\n",
    "data = requests.get('https://www.genie.co.kr/chart/top200?ditc=D&rtm=Y',headers=headers)\n",
    "\n",
    "soup = BeautifulSoup(data.text, 'html.parser')\n",
    "\n",
    "trs = soup.select('#body-content > div.newest-list > div > table > tbody > tr')\n",
    "\n",
    "for tr in trs:\n",
    "    rank = tr.select_one('td.number').text[0:2].strip()\n",
    "\n",
    "    title = tr.select_one('a.title.ellipsis').text.strip()\n",
    "\n",
    "    if \"19금\" in title:\n",
    "        title = title.strip(\"19금\")\n",
    "        title = title.strip()\n",
    "\n",
    "    artist = tr.select_one('a.artist.ellipsis').text\n",
    "\n",
    "    print(rank, title, artist)"
   ]
  }
 ],
 "metadata": {
  "kernelspec": {
   "display_name": "base",
   "language": "python",
   "name": "python3"
  },
  "language_info": {
   "codemirror_mode": {
    "name": "ipython",
    "version": 3
   },
   "file_extension": ".py",
   "mimetype": "text/x-python",
   "name": "python",
   "nbconvert_exporter": "python",
   "pygments_lexer": "ipython3",
   "version": "3.11.4"
  },
  "orig_nbformat": 4
 },
 "nbformat": 4,
 "nbformat_minor": 2
}
